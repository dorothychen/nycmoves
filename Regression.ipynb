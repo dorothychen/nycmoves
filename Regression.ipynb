{
 "cells": [
  {
   "cell_type": "markdown",
   "metadata": {},
   "source": [
    "# Prediction: Regression"
   ]
  },
  {
   "cell_type": "code",
   "execution_count": 1,
   "metadata": {
    "collapsed": false
   },
   "outputs": [],
   "source": [
    "## imports\n",
    "import os, sys\n",
    "import pandas as pd\n",
    "import numpy as np\n",
    "import matplotlib.pyplot as plt\n",
    "\n",
    "from globes import taxi_dir, days_dir\n",
    "from multiprocessing import Pool, Process, cpu_count\n",
    "\n"
   ]
  },
  {
   "cell_type": "code",
   "execution_count": 2,
   "metadata": {
    "collapsed": false
   },
   "outputs": [],
   "source": [
    "FEATURE_COLS = ['pickup_day', \n",
    "                'pickup_hour', \n",
    "                'pickup_latitude', \n",
    "                'pickup_longitude']\n",
    "\n",
    "Y_COLS = ['dropoff_latitude', \n",
    "          'dropoff_longitude']\n",
    "\n",
    "\"\"\" get feature and label rows from filename\n",
    "\"\"\"\n",
    "def getXyAll(filename):\n",
    "    df = pd.read_csv(filename, parse_dates=['pickup_datetime', 'dropoff_datetime'])\n",
    "    \n",
    "    # get rid of zones that don't actually really exist THIS IS IMPORTANT\n",
    "    df = df.loc[df['pickup_zone_taxi'] != -1]\n",
    "    df = df.loc[df['dropoff_zone_taxi'] != -1]\n",
    "    df = df.dropna()\n",
    "    \n",
    "    df[\"pickup_day\"] = df['pickup_datetime'].apply(lambda t: t.weekday())\n",
    "    df[\"pickup_hour\"] = df['pickup_datetime'].apply(lambda t: t.hour)\n",
    "\n",
    "    df_X = df[FEATURE_COLS]\n",
    "    df_Y = df[Y_COLS]\n",
    "    return df_X, df_Y\n",
    "\n",
    "\"\"\" get feature and label rows from filename, only for Manhattan\n",
    "\"\"\"\n",
    "def getXyManhattan(filename):\n",
    "    df = pd.read_csv(filename, parse_dates=['pickup_datetime', 'dropoff_datetime'])\n",
    "\n",
    "    # get rid of zones that don't actually really exist THIS IS IMPORTANT\n",
    "    df = df.loc[df['pickup_zone_taxi'] != -1]\n",
    "    df = df.loc[df['dropoff_zone_taxi'] != -1]\n",
    "    df = df.dropna()\n",
    "    \n",
    "    # keep only Manhattan pickups\n",
    "    df = df.loc[df['pickup_borough'] == \"Manhattan\"]\n",
    "    \n",
    "    df[\"pickup_day\"] = df['pickup_datetime'].apply(lambda t: t.weekday())\n",
    "    df[\"pickup_hour\"] = df['pickup_datetime'].apply(lambda t: t.hour)\n",
    "\n",
    "    df_X = df[FEATURE_COLS]\n",
    "    df_Y = df[Y_COLS]\n",
    "    return df_X, df_Y   \n",
    "\n",
    "\"\"\" get X, y in numpy arrays from relevant data\n",
    "\"\"\"\n",
    "def getDataNumpy(get_Xy_func):\n",
    "    num_cores = cpu_count()/2\n",
    "    print \"using \" + str(num_cores) + \" cores\"\n",
    "    pool = Pool(processes=num_cores)\n",
    "\n",
    "    filenames = [os.path.join(taxi_dir, days_dir, f) for f in os.listdir(os.path.join(taxi_dir, days_dir)) if f.endswith('csv')]\n",
    "    \n",
    "    # get X, y dataframes in parallel\n",
    "    Xy_arr = pool.map(get_Xy_func, filenames)\n",
    "    pool.terminate()\n",
    "\n",
    "    # separate out to array of X dataframes and y dataframes\n",
    "    dfs_X = map(lambda pair: pair[0], Xy_arr)\n",
    "    dfs_y = map(lambda pair: pair[1], Xy_arr)\n",
    "\n",
    "    # concatenate dataframe array into single df\n",
    "    df_X = pd.concat(dfs_X)\n",
    "    df_y = pd.concat(dfs_y)\n",
    "\n",
    "    # convert df to numpy arrays\n",
    "    X = df_X.as_matrix()\n",
    "    y = df_y.as_matrix()\n",
    "\n",
    "    print df_X.shape, df_y.shape\n",
    "    print X.shape, y.shape\n",
    "\n",
    "    return X, y\n"
   ]
  },
  {
   "cell_type": "code",
   "execution_count": null,
   "metadata": {
    "collapsed": true
   },
   "outputs": [],
   "source": [
    "X, y = getDataNumpy(getXyAll)"
   ]
  },
  {
   "cell_type": "code",
   "execution_count": 3,
   "metadata": {
    "collapsed": false
   },
   "outputs": [
    {
     "name": "stdout",
     "output_type": "stream",
     "text": [
      "using 28 cores\n",
      "(65147846, 4) (65147846, 2)\n",
      "(65147846, 4) (65147846, 2)\n"
     ]
    }
   ],
   "source": [
    "Xm, ym = getDataNumpy(getXyManhattan)"
   ]
  },
  {
   "cell_type": "markdown",
   "metadata": {},
   "source": [
    "## Random forest regressor"
   ]
  },
  {
   "cell_type": "code",
   "execution_count": 5,
   "metadata": {
    "collapsed": false,
    "scrolled": false
   },
   "outputs": [],
   "source": [
    "from sklearn.ensemble import RandomForestRegressor\n",
    "from sklearn.model_selection import cross_val_score\n",
    "from sklearn.metrics import mean_squared_error\n",
    "\n",
    "\"\"\" Random Forest Regressor\n",
    "\"\"\"\n",
    "def RandomForest(X, y, split_index=69000000):\n",
    "    X_train = X[:split_index]\n",
    "    y_train = y[:split_index]\n",
    "    \n",
    "    X_test = X[split_index:]\n",
    "    y_test = y[split_index:]\n",
    "    \n",
    "    print X_train.shape, y_train.shape, X_test.shape, y_test.shape\n",
    "    \n",
    "    reg = RandomForestRegressor(n_estimators=2, max_depth=20, n_jobs=-1, verbose=3, warm_start=True)\n",
    "    reg.fit(X_train, y_train)\n",
    "    training_accuracy = reg.score(X_train, y_train)\n",
    "    valid_accuracy = reg.score(X_test, y_test)\n",
    "    rmsetrain = np.sqrt(mean_squared_error(reg.predict(X_train),y_train))\n",
    "    rmsevalid = np.sqrt(mean_squared_error(reg.predict(X_test),y_test))\n",
    "    \n",
    "    print \" R^2 (train) = %0.3f, R^2 (valid) = %0.3f, RMSE (train) = %0.3f, RMSE (valid) = %0.3f\" \\\n",
    "        % (training_accuracy, valid_accuracy, rmsetrain, rmsevalid)\n",
    "    "
   ]
  },
  {
   "cell_type": "code",
   "execution_count": 4,
   "metadata": {
    "collapsed": false
   },
   "outputs": [
    {
     "name": "stdout",
     "output_type": "stream",
     "text": [
      "predicting latitude, longitude\n",
      "(69000000, 4) (69000000, 2) (8699460, 4) (8699460, 2)\n",
      "building tree 1 of 2\n",
      "building tree 2 of 2\n"
     ]
    },
    {
     "name": "stderr",
     "output_type": "stream",
     "text": [
      "[Parallel(n_jobs=-1)]: Done   2 out of   2 | elapsed:  4.7min remaining:    0.0s\n",
      "[Parallel(n_jobs=-1)]: Done   2 out of   2 | elapsed:  4.7min finished\n",
      "[Parallel(n_jobs=2)]: Done   2 out of   2 | elapsed:   18.8s remaining:    0.0s\n",
      "[Parallel(n_jobs=2)]: Done   2 out of   2 | elapsed:   18.8s finished\n",
      "[Parallel(n_jobs=2)]: Done   2 out of   2 | elapsed:    2.6s remaining:    0.0s\n",
      "[Parallel(n_jobs=2)]: Done   2 out of   2 | elapsed:    2.6s finished\n",
      "[Parallel(n_jobs=2)]: Done   2 out of   2 | elapsed:   18.8s remaining:    0.0s\n",
      "[Parallel(n_jobs=2)]: Done   2 out of   2 | elapsed:   18.8s finished\n",
      "[Parallel(n_jobs=2)]: Done   2 out of   2 | elapsed:    2.5s remaining:    0.0s\n",
      "[Parallel(n_jobs=2)]: Done   2 out of   2 | elapsed:    2.5s finished\n"
     ]
    },
    {
     "name": "stdout",
     "output_type": "stream",
     "text": [
      " R^2 (train) = 0.403, R^2 (valid) = 0.373, RMSE (train) = 0.029, RMSE (valid) = 0.030\n"
     ]
    }
   ],
   "source": [
    "RandomForest(X, y)"
   ]
  },
  {
   "cell_type": "code",
   "execution_count": 6,
   "metadata": {
    "collapsed": false
   },
   "outputs": [
    {
     "name": "stdout",
     "output_type": "stream",
     "text": [
      "(58000000, 4) (58000000, 2) (7147846, 4) (7147846, 2)\n",
      "building tree 1 of 2building tree 2 of 2\n",
      "\n"
     ]
    },
    {
     "name": "stderr",
     "output_type": "stream",
     "text": [
      "[Parallel(n_jobs=-1)]: Done   2 out of   2 | elapsed:  3.8min remaining:    0.0s\n",
      "[Parallel(n_jobs=-1)]: Done   2 out of   2 | elapsed:  3.8min finished\n",
      "[Parallel(n_jobs=2)]: Done   2 out of   2 | elapsed:   17.4s remaining:    0.0s\n",
      "[Parallel(n_jobs=2)]: Done   2 out of   2 | elapsed:   17.4s finished\n",
      "[Parallel(n_jobs=2)]: Done   2 out of   2 | elapsed:    2.4s remaining:    0.0s\n",
      "[Parallel(n_jobs=2)]: Done   2 out of   2 | elapsed:    2.4s finished\n",
      "[Parallel(n_jobs=2)]: Done   2 out of   2 | elapsed:   16.7s remaining:    0.0s\n",
      "[Parallel(n_jobs=2)]: Done   2 out of   2 | elapsed:   16.7s finished\n",
      "[Parallel(n_jobs=2)]: Done   2 out of   2 | elapsed:    2.2s remaining:    0.0s\n",
      "[Parallel(n_jobs=2)]: Done   2 out of   2 | elapsed:    2.2s finished\n"
     ]
    },
    {
     "name": "stdout",
     "output_type": "stream",
     "text": [
      " R^2 (train) = 0.256, R^2 (valid) = 0.200, RMSE (train) = 0.027, RMSE (valid) = 0.028\n"
     ]
    }
   ],
   "source": [
    "RandomForest(Xm, ym, split_index=58000000)"
   ]
  },
  {
   "cell_type": "markdown",
   "metadata": {},
   "source": [
    "## SGD"
   ]
  },
  {
   "cell_type": "code",
   "execution_count": 7,
   "metadata": {
    "collapsed": true
   },
   "outputs": [],
   "source": [
    "from sklearn.multioutput import MultiOutputRegressor\n",
    "from sklearn.preprocessing import StandardScaler\n",
    "from sklearn import linear_model\n",
    "\n",
    "def SGD(X, y, split_index=69000000):\n",
    "    X_train = X[:split_index]\n",
    "    y_train = y[:split_index]\n",
    "\n",
    "    X_test = X[split_index:]\n",
    "    y_test = y[split_index:]\n",
    "    \n",
    "    # scale data\n",
    "    scaler = StandardScaler()\n",
    "    scaler.fit(X_train)\n",
    "    X_train = scaler.transform(X_train)\n",
    "    X_test = scaler.transform(X_test)  # apply same transformation to test data\n",
    "    \n",
    "    reg = MultiOutputRegressor(linear_model.SGDRegressor(), n_jobs=-1).fit(X_train, y_train)\n",
    "    reg.fit(X_train, y_train)\n",
    "    training_accuracy = reg.score(X_train, y_train)\n",
    "    valid_accuracy = reg.score(X_test, y_test)\n",
    "    rmsetrain = np.sqrt(mean_squared_error(reg.predict(X_train),y_train))\n",
    "    rmsevalid = np.sqrt(mean_squared_error(reg.predict(X_test),y_test))\n",
    "    \n",
    "    print \" R^2 (train) = %0.3f, R^2 (valid) = %0.3f, RMSE (train) = %0.3f, RMSE (valid) = %0.3f\" \\\n",
    "        % (training_accuracy, valid_accuracy, rmsetrain, rmsevalid)\n",
    "    "
   ]
  },
  {
   "cell_type": "code",
   "execution_count": 8,
   "metadata": {
    "collapsed": false
   },
   "outputs": [
    {
     "name": "stdout",
     "output_type": "stream",
     "text": [
      " R^2 (train) = 0.267, R^2 (valid) = 0.275, RMSE (train) = 0.032, RMSE (valid) = 0.032\n"
     ]
    }
   ],
   "source": [
    "SGD(X, y)"
   ]
  },
  {
   "cell_type": "code",
   "execution_count": null,
   "metadata": {
    "collapsed": true
   },
   "outputs": [],
   "source": []
  }
 ],
 "metadata": {
  "kernelspec": {
   "display_name": "Python 2",
   "language": "python",
   "name": "python2"
  },
  "language_info": {
   "codemirror_mode": {
    "name": "ipython",
    "version": 2
   },
   "file_extension": ".py",
   "mimetype": "text/x-python",
   "name": "python",
   "nbconvert_exporter": "python",
   "pygments_lexer": "ipython2",
   "version": "2.7.5"
  }
 },
 "nbformat": 4,
 "nbformat_minor": 1
}
