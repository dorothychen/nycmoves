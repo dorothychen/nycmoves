{
 "cells": [
  {
   "cell_type": "code",
   "execution_count": 1,
   "metadata": {
    "collapsed": false,
    "scrolled": true
   },
   "outputs": [],
   "source": [
    "import os, sys\n",
    "import pandas as pd\n",
    "from globes import taxi_dir, dest_count_dir, connections_dir, zoneIdToName\n",
    "\n",
    "filename = \"zones_2016.csv\"\n",
    "filepath = os.path.join(taxi_dir, dest_count_dir, filename)\n",
    "df = pd.read_csv(filepath, index_col=0)"
   ]
  },
  {
   "cell_type": "code",
   "execution_count": null,
   "metadata": {
    "collapsed": false
   },
   "outputs": [],
   "source": [
    "## graph for each pickup zone\n",
    "import matplotlib.pyplot as plt\n",
    "import matplotlib.style\n",
    "matplotlib.style.use('ggplot')\n",
    "\n",
    "zone_data = zoneIdToName()\n",
    "\n",
    "def get_zone_names(zone_ids):\n",
    "    return map(lambda id: zone_data.get(id), zone_ids)\n",
    "\n",
    "# iterate through each row (aka pickup zone)\n",
    "for pickup_zone, row in df.iterrows():\n",
    "    if zone_data.get(pickup_zone):\n",
    "        row = row.sort_values(ascending=False)\n",
    "        row.index = row.index.astype(int)\n",
    "        \n",
    "        # graph\n",
    "        plt.figure(1, figsize=(80,20))\n",
    "        ax = row.plot(kind=\"bar\")\n",
    "        ax.set_title(\"2016-01 through 2016-06; trips from zone: \" + zone_data[pickup_zone])\n",
    "        ax.set_xlabel(\"dropoff zone\")\n",
    "        ax.set_ylabel(\"num dropoffs\")\n",
    "        \n",
    "        x_labels = get_zone_names(row.index)\n",
    "        ax.set_xticklabels(x_labels)\n",
    "\n",
    "        # save \n",
    "        graph_path = os.path.join(connections_dir, \"taxi\" + str(pickup_zone) + '.png')\n",
    "        plt.savefig(graph_path, bbox_inches='tight')\n",
    "    \n",
    "    \n"
   ]
  },
  {
   "cell_type": "code",
   "execution_count": null,
   "metadata": {
    "collapsed": true
   },
   "outputs": [],
   "source": [
    "## For most zones, pickup originating in that zone also end in the same zone. For which zones is this not the case?\n",
    "\n",
    "transfer_zones = []\n",
    "for pickup_zone, row in df.iterrows():\n",
    "    row = row.sort_values(ascending=False)\n",
    "    if pickup_zone != row[0]:\n",
    "        transfer_zones.append(pickup_zone)\n",
    "transfer_zones"
   ]
  }
 ],
 "metadata": {
  "kernelspec": {
   "display_name": "Python 2",
   "language": "python",
   "name": "python2"
  },
  "language_info": {
   "codemirror_mode": {
    "name": "ipython",
    "version": 2
   },
   "file_extension": ".py",
   "mimetype": "text/x-python",
   "name": "python",
   "nbconvert_exporter": "python",
   "pygments_lexer": "ipython2",
   "version": "2.7.11"
  }
 },
 "nbformat": 4,
 "nbformat_minor": 1
}
