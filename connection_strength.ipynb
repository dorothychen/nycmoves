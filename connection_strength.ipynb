{
 "cells": [
  {
   "cell_type": "code",
   "execution_count": 1,
   "metadata": {
    "collapsed": false,
    "scrolled": true
   },
   "outputs": [],
   "source": [
    "import os, sys\n",
    "import pandas as pd\n",
    "from globes import taxi_dir, dest_count_dir, connections_dir, zoneIdToName\n",
    "\n",
    "filename = \"zones_2016.csv\"\n",
    "filepath = os.path.join(taxi_dir, dest_count_dir, filename)\n",
    "df = pd.read_csv(filepath, index_col=0)"
   ]
  },
  {
   "cell_type": "code",
   "execution_count": null,
   "metadata": {
    "collapsed": false
   },
   "outputs": [],
   "source": [
    "## graph for each pickup zone\n",
    "import matplotlib.pyplot as plt\n",
    "import matplotlib.style\n",
    "matplotlib.style.use('ggplot')\n",
    "\n",
    "zone_data = zoneIdToName()\n",
    "\n",
    "def get_zone_names(zone_ids):\n",
    "    return map(lambda id: zone_data.get(id), zone_ids)\n",
    "\n",
    "# iterate through each row (aka pickup zone)\n",
    "for pickup_zone, row in df.iterrows():\n",
    "    if zone_data.get(pickup_zone):\n",
    "        row = row.sort_values(ascending=False)\n",
    "        row.index = row.index.astype(int)\n",
    "        \n",
    "        # graph\n",
    "        plt.figure(1, figsize=(80,20))\n",
    "        ax = row.plot(kind=\"bar\")\n",
    "        ax.set_title(\"2016-01 through 2016-06; trips from zone: \" + zone_data[pickup_zone])\n",
    "        ax.set_xlabel(\"dropoff zone\")\n",
    "        ax.set_ylabel(\"num dropoffs\")\n",
    "        \n",
    "        x_labels = get_zone_names(row.index)\n",
    "        ax.set_xticklabels(x_labels)\n",
    "\n",
    "        # save \n",
    "        graph_path = os.path.join(connections_dir, \"taxi\" + str(pickup_zone) + '.png')\n",
    "        plt.savefig(graph_path, bbox_inches='tight')\n",
    "    \n",
    "    \n"
   ]
  },
  {
   "cell_type": "code",
   "execution_count": 1,
   "metadata": {
    "collapsed": false
   },
   "outputs": [
    {
     "ename": "NameError",
     "evalue": "name 'df' is not defined",
     "output_type": "error",
     "traceback": [
      "\u001b[0;31m---------------------------------------------------------------------------\u001b[0m",
      "\u001b[0;31mNameError\u001b[0m                                 Traceback (most recent call last)",
      "\u001b[0;32m<ipython-input-1-1c02dcc550d2>\u001b[0m in \u001b[0;36m<module>\u001b[0;34m()\u001b[0m\n\u001b[1;32m      2\u001b[0m \u001b[0;34m\u001b[0m\u001b[0m\n\u001b[1;32m      3\u001b[0m \u001b[0mtransfer_zones\u001b[0m \u001b[0;34m=\u001b[0m \u001b[0;34m[\u001b[0m\u001b[0;34m]\u001b[0m\u001b[0;34m\u001b[0m\u001b[0m\n\u001b[0;32m----> 4\u001b[0;31m \u001b[0;32mfor\u001b[0m \u001b[0mpickup_zone\u001b[0m\u001b[0;34m,\u001b[0m \u001b[0mrow\u001b[0m \u001b[0;32min\u001b[0m \u001b[0mdf\u001b[0m\u001b[0;34m.\u001b[0m\u001b[0miterrows\u001b[0m\u001b[0;34m(\u001b[0m\u001b[0;34m)\u001b[0m\u001b[0;34m:\u001b[0m\u001b[0;34m\u001b[0m\u001b[0m\n\u001b[0m\u001b[1;32m      5\u001b[0m     \u001b[0mrow\u001b[0m \u001b[0;34m=\u001b[0m \u001b[0mrow\u001b[0m\u001b[0;34m.\u001b[0m\u001b[0msort_values\u001b[0m\u001b[0;34m(\u001b[0m\u001b[0mascending\u001b[0m\u001b[0;34m=\u001b[0m\u001b[0mFalse\u001b[0m\u001b[0;34m)\u001b[0m\u001b[0;34m\u001b[0m\u001b[0m\n\u001b[1;32m      6\u001b[0m     \u001b[0;32mif\u001b[0m \u001b[0mpickup_zone\u001b[0m \u001b[0;34m!=\u001b[0m \u001b[0mrow\u001b[0m\u001b[0;34m[\u001b[0m\u001b[0;36m0\u001b[0m\u001b[0;34m]\u001b[0m\u001b[0;34m:\u001b[0m\u001b[0;34m\u001b[0m\u001b[0m\n",
      "\u001b[0;31mNameError\u001b[0m: name 'df' is not defined"
     ]
    }
   ],
   "source": [
    "## For most zones, pickup originating in that zone also end in the same zone. For which zones is this not the case?\n",
    "\n",
    "transfer_zones = []\n",
    "for pickup_zone, row in df.iterrows():\n",
    "    row = row.sort_values(ascending=False)\n",
    "    if pickup_zone != row[0]:\n",
    "        transfer_zones.append(pickup_zone)\n",
    "transfer_zones"
   ]
  },
  {
   "cell_type": "code",
   "execution_count": null,
   "metadata": {
    "collapsed": true
   },
   "outputs": [],
   "source": []
  }
 ],
 "metadata": {
  "kernelspec": {
   "display_name": "Python 2",
   "language": "python",
   "name": "python2"
  },
  "language_info": {
   "codemirror_mode": {
    "name": "ipython",
    "version": 2
   },
   "file_extension": ".py",
   "mimetype": "text/x-python",
   "name": "python",
   "nbconvert_exporter": "python",
   "pygments_lexer": "ipython2",
   "version": "2.7.11"
  }
 },
 "nbformat": 4,
 "nbformat_minor": 1
}
