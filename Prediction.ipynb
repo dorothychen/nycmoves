{
 "cells": [
  {
   "cell_type": "markdown",
   "metadata": {},
   "source": [
    "# Prediction"
   ]
  },
  {
   "cell_type": "code",
   "execution_count": 3,
   "metadata": {
    "collapsed": false
   },
   "outputs": [],
   "source": [
    "## imports\n",
    "import os, sys\n",
    "import pandas as pd\n",
    "import numpy as np\n",
    "import matplotlib.pyplot as plt\n",
    "\n",
    "from globes import taxi_dir, days_dir\n",
    "\n",
    "from multiprocessing import Pool, Process, cpu_count\n"
   ]
  },
  {
   "cell_type": "code",
   "execution_count": 4,
   "metadata": {
    "collapsed": false
   },
   "outputs": [
    {
     "name": "stdout",
     "output_type": "stream",
     "text": [
      "using 28 cores\n",
      "(77579478, 4) (77579478, 2)\n",
      "(77579478, 4) (77579478, 2)\n"
     ]
    }
   ],
   "source": [
    "## get X, y in numpy arrays from relevant data\n",
    "FEATURE_COLS = ['pickup_day', 'pickup_hour', 'pickup_latitude', 'pickup_longitude']\n",
    "Y_COLS = ['dropoff_latitude', 'dropoff_longitude']\n",
    "\n",
    "\"\"\" get feature and label rows from filename for regression\n",
    "\"\"\"\n",
    "def get_Xy_reg(filename):\n",
    "    df = pd.read_csv(filename, parse_dates=['pickup_datetime', 'dropoff_datetime'])\n",
    "    df = df.dropna()\n",
    "    \n",
    "    df[\"pickup_day\"] = df['pickup_datetime'].apply(lambda t: t.weekday())\n",
    "    df[\"pickup_hour\"] = df['pickup_datetime'].apply(lambda t: t.hour)\n",
    "\n",
    "    df_X = df[FEATURE_COLS]\n",
    "    df_Y = df[Y_COLS]\n",
    "    return df_X.fillna(0), df_Y.fillna(0)\n",
    "\n",
    "\"\"\" get X, y in numpy arrays from relevant data\n",
    "\"\"\"\n",
    "def getDataNumpy(get_Xy_func):\n",
    "    num_cores = cpu_count()/2\n",
    "    print \"using \" + str(num_cores) + \" cores\"\n",
    "    pool = Pool(processes=num_cores)\n",
    "\n",
    "    filenames = [os.path.join(taxi_dir, days_dir, f) for f in os.listdir(os.path.join(taxi_dir, days_dir)) if f.endswith('csv')]\n",
    "    \n",
    "    # get X, y dataframes in parallel\n",
    "    Xy_arr = pool.map(get_Xy_func, filenames)\n",
    "    pool.terminate()\n",
    "\n",
    "    # separate out to array of X dataframes and y dataframes\n",
    "    dfs_X = map(lambda pair: pair[0], Xy_arr)\n",
    "    dfs_y = map(lambda pair: pair[1], Xy_arr)\n",
    "\n",
    "    # concatenate dataframe array into single df\n",
    "    df_X = pd.concat(dfs_X)\n",
    "    df_y = pd.concat(dfs_y)\n",
    "\n",
    "    # convert df to numpy arrays\n",
    "    X = df_X.as_matrix()\n",
    "    y = df_y.as_matrix()\n",
    "\n",
    "    print df_X.shape, df_y.shape\n",
    "    print X.shape, y.shape\n",
    "\n",
    "    return X, y\n",
    "\n",
    "X, y = getDataNumpy(get_Xy_reg)"
   ]
  },
  {
   "cell_type": "markdown",
   "metadata": {},
   "source": [
    "## Random forest regressor"
   ]
  },
  {
   "cell_type": "code",
   "execution_count": 5,
   "metadata": {
    "collapsed": false,
    "scrolled": false
   },
   "outputs": [],
   "source": [
    "from sklearn.ensemble import RandomForestRegressor\n",
    "from sklearn.model_selection import cross_val_score\n",
    "from sklearn.metrics import mean_squared_error\n",
    "\n",
    "\"\"\" Random Forest Classifier\n",
    "\"\"\"\n",
    "def RandomForest(X, y):\n",
    "    X_train = X[:60000000]\n",
    "    y_train = y[:60000000]\n",
    "    \n",
    "    X_test = X[60000000:]\n",
    "    y_test = y[60000000:]\n",
    "\n",
    "    reg = RandomForestRegressor(n_estimators=2, max_depth=20, n_jobs=-1, verbose=4, warm_start=True)\n",
    "    reg.fit(X_train, y_train) #, sample_weight=pickup_count_train.values)\n",
    "    training_accuracy = reg.score(X_train, y_train)\n",
    "    valid_accuracy = reg.score(X_test, y_test)\n",
    "    rmsetrain = np.sqrt(mean_squared_error(reg.predict(X_train),y_train))\n",
    "    rmsevalid = np.sqrt(mean_squared_error(reg.predict(X_test),y_test))\n",
    "    \n",
    "    print \" R^2 (train) = %0.3f, R^2 (valid) = %0.3f, RMSE (train) = %0.3f, RMSE (valid) = %0.3f\" % (training_accuracy, valid_accuracy, rmsetrain, rmsevalid)\n",
    "    \n",
    "\n",
    "\"\"\" Random Forest Classifier for lat and lon\n",
    "\"\"\"\n",
    "def RandomForestLatLon(X, y):\n",
    "    print \"predicting latitude, longitude\"\n",
    "    RandomForest(X, y)\n",
    "    \n",
    "\"\"\" Random Forest Classifier for longitude\n",
    "\"\"\"\n",
    "def RandomForestLon(X, y):\n",
    "    y = y[:, 1]\n",
    "    print \"predicting longitude\"\n",
    "    RandomForest(X, y)\n",
    "    \n",
    "\"\"\" Random Forest Classifier for latitude\n",
    "\"\"\"\n",
    "def RandomForestLat(X, y):\n",
    "    y = y[:, 0]\n",
    "    print \"predicting latitude\"\n",
    "    RandomForest(X, y)\n",
    "    "
   ]
  },
  {
   "cell_type": "code",
   "execution_count": 6,
   "metadata": {
    "collapsed": false
   },
   "outputs": [
    {
     "name": "stdout",
     "output_type": "stream",
     "text": [
      "predicting latitude\n",
      "building tree 1 of 2building tree 2 of 2\n",
      "\n"
     ]
    },
    {
     "name": "stderr",
     "output_type": "stream",
     "text": [
      "[Parallel(n_jobs=-1)]: Done   2 out of   2 | elapsed:  3.8min remaining:    0.0s\n",
      "[Parallel(n_jobs=-1)]: Done   2 out of   2 | elapsed:  3.8min finished\n",
      "[Parallel(n_jobs=2)]: Done   2 out of   2 | elapsed:   17.8s remaining:    0.0s\n",
      "[Parallel(n_jobs=2)]: Done   2 out of   2 | elapsed:   17.8s finished\n",
      "[Parallel(n_jobs=2)]: Done   2 out of   2 | elapsed:    5.2s remaining:    0.0s\n",
      "[Parallel(n_jobs=2)]: Done   2 out of   2 | elapsed:    5.3s finished\n",
      "[Parallel(n_jobs=2)]: Done   2 out of   2 | elapsed:   17.2s remaining:    0.0s\n",
      "[Parallel(n_jobs=2)]: Done   2 out of   2 | elapsed:   17.2s finished\n",
      "[Parallel(n_jobs=2)]: Done   2 out of   2 | elapsed:    5.4s remaining:    0.0s\n",
      "[Parallel(n_jobs=2)]: Done   2 out of   2 | elapsed:    5.4s finished\n"
     ]
    },
    {
     "name": "stdout",
     "output_type": "stream",
     "text": [
      " R^2 (train) = 0.465, R^2 (valid) = 0.422, RMSE (train) = 0.027, RMSE (valid) = 0.028\n"
     ]
    }
   ],
   "source": [
    "RandomForestLat(X, y)"
   ]
  },
  {
   "cell_type": "code",
   "execution_count": 7,
   "metadata": {
    "collapsed": false
   },
   "outputs": [
    {
     "name": "stdout",
     "output_type": "stream",
     "text": [
      "predicting latitude, longitude\n",
      "building tree 1 of 2\n",
      "building tree 2 of 2\n"
     ]
    },
    {
     "name": "stderr",
     "output_type": "stream",
     "text": [
      "[Parallel(n_jobs=-1)]: Done   2 out of   2 | elapsed:  3.9min remaining:    0.0s\n",
      "[Parallel(n_jobs=-1)]: Done   2 out of   2 | elapsed:  3.9min finished\n",
      "[Parallel(n_jobs=2)]: Done   2 out of   2 | elapsed:   17.1s remaining:    0.0s\n",
      "[Parallel(n_jobs=2)]: Done   2 out of   2 | elapsed:   17.1s finished\n",
      "[Parallel(n_jobs=2)]: Done   2 out of   2 | elapsed:    5.2s remaining:    0.0s\n",
      "[Parallel(n_jobs=2)]: Done   2 out of   2 | elapsed:    5.2s finished\n",
      "[Parallel(n_jobs=2)]: Done   2 out of   2 | elapsed:   17.3s remaining:    0.0s\n",
      "[Parallel(n_jobs=2)]: Done   2 out of   2 | elapsed:   17.3s finished\n",
      "[Parallel(n_jobs=2)]: Done   2 out of   2 | elapsed:    5.3s remaining:    0.0s\n",
      "[Parallel(n_jobs=2)]: Done   2 out of   2 | elapsed:    5.3s finished\n"
     ]
    },
    {
     "name": "stdout",
     "output_type": "stream",
     "text": [
      " R^2 (train) = 0.416, R^2 (valid) = 0.374, RMSE (train) = 0.028, RMSE (valid) = 0.029\n"
     ]
    }
   ],
   "source": [
    "RandomForestLatLon(X, y)"
   ]
  },
  {
   "cell_type": "code",
   "execution_count": 10,
   "metadata": {
    "collapsed": false
   },
   "outputs": [
    {
     "name": "stdout",
     "output_type": "stream",
     "text": [
      "predicting longitude\n",
      "building tree 1 of 2\n",
      "building tree 2 of 2\n"
     ]
    },
    {
     "name": "stderr",
     "output_type": "stream",
     "text": [
      "[Parallel(n_jobs=-1)]: Done   2 out of   2 | elapsed:  4.0min remaining:    0.0s\n",
      "[Parallel(n_jobs=-1)]: Done   2 out of   2 | elapsed:  4.0min finished\n",
      "[Parallel(n_jobs=2)]: Done   2 out of   2 | elapsed:   15.3s remaining:    0.0s\n",
      "[Parallel(n_jobs=2)]: Done   2 out of   2 | elapsed:   15.3s finished\n",
      "[Parallel(n_jobs=2)]: Done   2 out of   2 | elapsed:    4.4s remaining:    0.0s\n",
      "[Parallel(n_jobs=2)]: Done   2 out of   2 | elapsed:    4.4s finished\n",
      "[Parallel(n_jobs=2)]: Done   2 out of   2 | elapsed:   14.8s remaining:    0.0s\n",
      "[Parallel(n_jobs=2)]: Done   2 out of   2 | elapsed:   14.8s finished\n",
      "[Parallel(n_jobs=2)]: Done   2 out of   2 | elapsed:    4.2s remaining:    0.0s\n",
      "[Parallel(n_jobs=2)]: Done   2 out of   2 | elapsed:    4.2s finished\n"
     ]
    },
    {
     "name": "stdout",
     "output_type": "stream",
     "text": [
      " R^2 (train) = 0.376, R^2 (valid) = 0.325, RMSE (train) = 0.030, RMSE (valid) = 0.031\n"
     ]
    }
   ],
   "source": [
    "RandomForestLon(X, y)"
   ]
  },
  {
   "cell_type": "code",
   "execution_count": null,
   "metadata": {
    "collapsed": true
   },
   "outputs": [],
   "source": []
  }
 ],
 "metadata": {
  "kernelspec": {
   "display_name": "Python 2",
   "language": "python",
   "name": "python2"
  },
  "language_info": {
   "codemirror_mode": {
    "name": "ipython",
    "version": 2
   },
   "file_extension": ".py",
   "mimetype": "text/x-python",
   "name": "python",
   "nbconvert_exporter": "python",
   "pygments_lexer": "ipython2",
   "version": "2.7.5"
  }
 },
 "nbformat": 4,
 "nbformat_minor": 1
}
