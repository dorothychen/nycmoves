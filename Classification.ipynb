{
 "cells": [
  {
   "cell_type": "markdown",
   "metadata": {},
   "source": [
    "# Prediction: Classification"
   ]
  },
  {
   "cell_type": "code",
   "execution_count": null,
   "metadata": {
    "collapsed": true
   },
   "outputs": [],
   "source": [
    "## imports\n",
    "import os, sys\n",
    "import pandas as pd\n",
    "import numpy as np\n",
    "import matplotlib.pyplot as plt\n",
    "\n",
    "from globes import taxi_dir, days_dir\n",
    "from multiprocessing import Pool, Process, cpu_count\n"
   ]
  },
  {
   "cell_type": "code",
   "execution_count": null,
   "metadata": {
    "collapsed": true
   },
   "outputs": [],
   "source": [
    "TYPE = \"CLF\"\n",
    "if TYPE == \"REG\":\n",
    "    FEATURE_COLS = ['pickup_day', 'pickup_hour', 'pickup_latitude', 'pickup_longitude']\n",
    "    Y_COLS = ['dropoff_latitude', 'dropoff_longitude']\n",
    "elif TYPE == \"CLF\":\n",
    "    FEATURE_COLS = ['pickup_day', 'pickup_hour', 'pickup_zone_taxi']\n",
    "    Y_COLS = 'dropoff_zone_taxi'\n",
    "    \n",
    "\"\"\" get feature and label rows from filename\n",
    "\"\"\"\n",
    "def getXyAll(filename):\n",
    "    df = pd.read_csv(filename, parse_dates=['pickup_datetime', 'dropoff_datetime'])\n",
    "    df = df.dropna()\n",
    "    \n",
    "    df[\"pickup_day\"] = df['pickup_datetime'].apply(lambda t: t.weekday())\n",
    "    df[\"pickup_hour\"] = df['pickup_datetime'].apply(lambda t: t.hour)\n",
    "\n",
    "    df_X = df[FEATURE_COLS]\n",
    "    df_Y = df[Y_COLS]\n",
    "    return df_X, df_Y\n",
    "\n",
    "\"\"\" get feature and label rows from filename, only for Manhattan\n",
    "\"\"\"\n",
    "def getXyManhattan(filename):\n",
    "    df = pd.read_csv(filename, parse_dates=['pickup_datetime', 'dropoff_datetime'])\n",
    "    df = df.dropna()\n",
    "    \n",
    "    # keep only Manhattan pickups\n",
    "    df = df.loc[df['pickup_borough'] == \"Manhattan\"]\n",
    "    \n",
    "    df[\"pickup_day\"] = df['pickup_datetime'].apply(lambda t: t.weekday())\n",
    "    df[\"pickup_hour\"] = df['pickup_datetime'].apply(lambda t: t.hour)\n",
    "    df[\"pickup_borough_num\"] = df[\"pickup_borough\"].apply(lambda b: boroughNums[b])\n",
    "\n",
    "    df_X = df[FEATURE_COLS]\n",
    "    df_Y = df[Y_COLS]\n",
    "    return df_X, df_Y   \n",
    "\n",
    "\"\"\" get X, y in numpy arrays from relevant data\n",
    "\"\"\"\n",
    "def getDataNumpy(get_Xy_func):\n",
    "    num_cores = cpu_count()/2\n",
    "    print \"using \" + str(num_cores) + \" cores\"\n",
    "    pool = Pool(processes=num_cores)\n",
    "\n",
    "    filenames = [os.path.join(taxi_dir, days_dir, f) for f in os.listdir(os.path.join(taxi_dir, days_dir)) if f.endswith('csv')]\n",
    "    \n",
    "    # get X, y dataframes in parallel\n",
    "    Xy_arr = pool.map(get_Xy_func, filenames)\n",
    "    pool.terminate()\n",
    "\n",
    "    # separate out to array of X dataframes and y dataframes\n",
    "    dfs_X = map(lambda pair: pair[0], Xy_arr)\n",
    "    dfs_y = map(lambda pair: pair[1], Xy_arr)\n",
    "\n",
    "    # concatenate dataframe array into single df\n",
    "    df_X = pd.concat(dfs_X)\n",
    "    df_y = pd.concat(dfs_y)\n",
    "\n",
    "    # convert df to numpy arrays\n",
    "    X = df_X.as_matrix()\n",
    "    y = df_y.as_matrix()\n",
    "\n",
    "    print df_X.shape, df_y.shape\n",
    "    print X.shape, y.shape\n",
    "\n",
    "    return X, y\n",
    "\n",
    "\n",
    "X, y = getDataNumpy(getXyAll)"
   ]
  },
  {
   "cell_type": "markdown",
   "metadata": {},
   "source": [
    "## Neural net"
   ]
  },
  {
   "cell_type": "code",
   "execution_count": null,
   "metadata": {
    "collapsed": true
   },
   "outputs": [],
   "source": []
  }
 ],
 "metadata": {
  "kernelspec": {
   "display_name": "Python 2",
   "language": "python",
   "name": "python2"
  },
  "language_info": {
   "codemirror_mode": {
    "name": "ipython",
    "version": 2
   },
   "file_extension": ".py",
   "mimetype": "text/x-python",
   "name": "python",
   "nbconvert_exporter": "python",
   "pygments_lexer": "ipython2",
   "version": "2.7.5"
  }
 },
 "nbformat": 4,
 "nbformat_minor": 1
}
